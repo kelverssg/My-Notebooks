{
  "nbformat": 4,
  "nbformat_minor": 0,
  "metadata": {
    "colab": {
      "name": "Sudoku_Solver_All_Puzzles.ipynb",
      "provenance": [],
      "collapsed_sections": [],
      "include_colab_link": true
    },
    "kernelspec": {
      "name": "python3",
      "display_name": "Python 3"
    }
  },
  "cells": [
    {
      "cell_type": "markdown",
      "metadata": {
        "id": "view-in-github",
        "colab_type": "text"
      },
      "source": [
        "<a href=\"https://colab.research.google.com/github/kelverssg/My-Notebooks/blob/master/Sudoku_Solver_All_Puzzles.ipynb\" target=\"_parent\"><img src=\"https://colab.research.google.com/assets/colab-badge.svg\" alt=\"Open In Colab\"/></a>"
      ]
    },
    {
      "cell_type": "code",
      "metadata": {
        "id": "f0vFwUrG13u-",
        "colab_type": "code",
        "colab": {}
      },
      "source": [
        "#Full Codebase\n",
        "def sudoku(puzzle):\n",
        "    from operator import itemgetter\n",
        "    \n",
        "    #checks if puzzle is solved\n",
        "    def solved(puzzle):  \n",
        "      for i in range(9):\n",
        "        for j in range(9):\n",
        "          if any([\n",
        "            puzzle[i][j] == 0,\n",
        "            puzzle[i].count(puzzle[i][j]) != 1,\n",
        "            [a[j] for a in puzzle].count(puzzle[i][j]) != 1,\n",
        "            (puzzle[i//3*3][j//3*3:j//3*3+3]+\\\n",
        "            puzzle[i//3*3+1][j//3*3:j//3*3+3]+\\\n",
        "            puzzle[i//3*3+2][j//3*3:j//3*3+3]).count(puzzle[i][j]) != 1]): return False\n",
        "      return True\n",
        "\n",
        "    #checks if unsolved puzzle has invalid input, e.g. repeating numbers in same row\n",
        "    def violated(puzzle):\n",
        "        for i in range(9):\n",
        "          for j in range(9):\n",
        "            if puzzle[i][j] != 0:\n",
        "              if any([\n",
        "                puzzle[i].count(puzzle[i][j]) != 1,\n",
        "                [a[j] for a in puzzle].count(puzzle[i][j]) != 1,\n",
        "                (puzzle[i//3*3][j//3*3:j//3*3+3]+\\\n",
        "                puzzle[i//3*3+1][j//3*3:j//3*3+3]+\\\n",
        "                puzzle[i//3*3+2][j//3*3:j//3*3+3]).count(puzzle[i][j]) != 1]): return True\n",
        "        return False\n",
        "    \n",
        "    #original optimisation code for deterministic puzzles\n",
        "    def narrow_down(puzzle):\n",
        "        c = [i for i in range(1,10)]\n",
        "        tpuzzle = list(map(list,zip(*puzzle)))\n",
        "        for i in range(9):\n",
        "            for j in range(9):\n",
        "                if puzzle[i][j] == 0: \n",
        "                    nv = puzzle[i] + tpuzzle[j] + puzzle[i//3*3][j//3*3:j//3*3+3]\\\n",
        "                    + puzzle[i//3*3+1][j//3*3:j//3*3+3] + puzzle[i//3*3+2][j//3*3:j//3*3+3]\n",
        "                    pv = [ele for ele in c if ele not in nv]\n",
        "                    if len(pv) == 1: puzzle[i][j] = pv[0]\n",
        "        return puzzle\n",
        "    \n",
        "    #returns list of possible input in each cell in 9x9 format\n",
        "    def mark_up(puzzle):\n",
        "        mark_ups = [[0 for i in range(9)] for j in range(9)]\n",
        "        c = [i for i in range(1,10)]\n",
        "        tpuzzle = list(map(list,zip(*puzzle)))\n",
        "        for i in range(9):\n",
        "            for j in range(9):\n",
        "                if puzzle[i][j] == 0: \n",
        "                    nv = puzzle[i] + tpuzzle[j] + puzzle[i//3*3][j//3*3:j//3*3+3]\\\n",
        "                    + puzzle[i//3*3+1][j//3*3:j//3*3+3] + puzzle[i//3*3+2][j//3*3:j//3*3+3]\n",
        "                    pv = [ele for ele in c if ele not in nv]\n",
        "                    mark_ups[i][j] = pv\n",
        "                else: mark_ups[i][j] = [puzzle[i][j]]\n",
        "        return mark_ups\n",
        "\n",
        "    #returns empty cell with shortest list of possibilities\n",
        "    def shortest_empty(puzzle):\n",
        "      lst = []\n",
        "      mark_ups = mark_up(puzzle)\n",
        "      for r in range(9):\n",
        "        for c in range(9):\n",
        "          if puzzle[r][c] == 0: lst += [[(r,c), len(mark_ups[r][c])]]        \n",
        "      lst = sorted(lst, key = itemgetter(1))\n",
        "      return lst[0][0]\n",
        "    \n",
        "    #recursively place guesses, backtrack completely if wrong\n",
        "    def guess(puzzle):\n",
        "      if solved(puzzle): return puzzle\n",
        "      mark_ups = mark_up(puzzle)\n",
        "      r, c = shortest_empty(puzzle)\n",
        "      for t in range(len(mark_ups[r][c])):\n",
        "        puzzle[r][c] = mark_ups[r][c][t]\n",
        "        if guess(puzzle): return puzzle\n",
        "        else: puzzle[r][c] = 0\n",
        "\n",
        "    puzzle = narrow_down(puzzle)\n",
        "    return guess(puzzle)"
      ],
      "execution_count": 0,
      "outputs": []
    },
    {
      "cell_type": "code",
      "metadata": {
        "id": "o2JUwwgr2CW0",
        "colab_type": "code",
        "colab": {}
      },
      "source": [
        "#Compact Codebase\n",
        "def sudoku(puzzle):\n",
        "    from operator import itemgetter\n",
        "\n",
        "    def solved(puzzle):  \n",
        "      for i in range(9):\n",
        "        for j in range(9):\n",
        "          if any([\n",
        "            puzzle[i][j] == 0,\n",
        "            puzzle[i].count(puzzle[i][j]) != 1,\n",
        "            [a[j] for a in puzzle].count(puzzle[i][j]) != 1,\n",
        "            (puzzle[i//3*3][j//3*3:j//3*3+3]+\\\n",
        "            puzzle[i//3*3+1][j//3*3:j//3*3+3]+\\\n",
        "            puzzle[i//3*3+2][j//3*3:j//3*3+3]).count(puzzle[i][j]) != 1]): return False\n",
        "      return True\n",
        "\n",
        "    def mark_up(puzzle):\n",
        "        mark_ups = [[0 for i in range(9)] for j in range(9)]\n",
        "        c = [i for i in range(1,10)]\n",
        "        tpuzzle = list(map(list,zip(*puzzle)))\n",
        "        for i in range(9):\n",
        "            for j in range(9):\n",
        "                if puzzle[i][j] == 0: \n",
        "                    nv = puzzle[i] + tpuzzle[j] + puzzle[i//3*3][j//3*3:j//3*3+3]\\\n",
        "                    + puzzle[i//3*3+1][j//3*3:j//3*3+3] + puzzle[i//3*3+2][j//3*3:j//3*3+3]\n",
        "                    pv = [ele for ele in c if ele not in nv]\n",
        "                    mark_ups[i][j] = pv\n",
        "                else: mark_ups[i][j] = [puzzle[i][j]]\n",
        "        return mark_ups\n",
        "\n",
        "    #original optimisation code for deterministic puzzles\n",
        "    def narrow_down(puzzle):\n",
        "        c = [i for i in range(1,10)]\n",
        "        tpuzzle = list(map(list,zip(*puzzle)))\n",
        "        for i in range(9):\n",
        "            for j in range(9):\n",
        "                if puzzle[i][j] == 0: \n",
        "                    nv = puzzle[i] + tpuzzle[j] + puzzle[i//3*3][j//3*3:j//3*3+3]\\\n",
        "                    + puzzle[i//3*3+1][j//3*3:j//3*3+3] + puzzle[i//3*3+2][j//3*3:j//3*3+3]\n",
        "                    pv = [ele for ele in c if ele not in nv]\n",
        "                    if len(pv) == 1: puzzle[i][j] = pv[0]\n",
        "        return puzzle\n",
        "\n",
        "    #returns empty cell with shortest list of possibilities\n",
        "    def shortest_empty(puzzle):\n",
        "      lst = []\n",
        "      mark_ups = mark_up(puzzle)\n",
        "      for r in range(9):\n",
        "        for c in range(9):\n",
        "          if puzzle[r][c] == 0: lst += [[(r,c), len(mark_ups[r][c])]]        \n",
        "      lst = sorted(lst, key = itemgetter(1))\n",
        "      return lst[0][0]\n",
        "\n",
        "    def guess(puzzle):\n",
        "      if solved(puzzle): return puzzle\n",
        "      mark_ups = mark_up(puzzle)\n",
        "      r, c = shortest_empty(puzzle)\n",
        "      for t in range(len(mark_ups[r][c])):\n",
        "        puzzle[r][c] = mark_ups[r][c][t]\n",
        "        if guess(puzzle): return puzzle\n",
        "        else: puzzle[r][c] = 0\n",
        "\n",
        "    puzzle = narrow_down(puzzle)\n",
        "    return guess(puzzle)"
      ],
      "execution_count": 0,
      "outputs": []
    },
    {
      "cell_type": "code",
      "metadata": {
        "id": "1qXP_Dmt2e21",
        "colab_type": "code",
        "colab": {}
      },
      "source": [
        "#World's Hardest Sudoku\n",
        "puzzle_hardest = [\n",
        "                  [8,0,0,0,0,0,0,0,0],\n",
        "                  [0,0,3,6,0,0,0,0,0],\n",
        "                  [0,7,0,0,9,0,2,0,0],\n",
        "                  [0,5,0,0,0,7,0,0,0],\n",
        "                  [0,0,0,0,4,5,7,0,0],\n",
        "                  [0,0,0,1,0,0,0,3,0],\n",
        "                  [0,0,1,0,0,0,0,6,8],\n",
        "                  [0,0,8,5,0,0,0,1,0],\n",
        "                  [0,9,0,0,0,0,4,0,0],\n",
        "                  ]"
      ],
      "execution_count": 0,
      "outputs": []
    },
    {
      "cell_type": "code",
      "metadata": {
        "id": "cyymdT3E2q1y",
        "colab_type": "code",
        "outputId": "8e4f77fb-c6b3-43fd-d19d-a408f5e85836",
        "colab": {
          "base_uri": "https://localhost:8080/",
          "height": 168
        }
      },
      "source": [
        "sudoku(puzzle_hardest)"
      ],
      "execution_count": 0,
      "outputs": [
        {
          "output_type": "execute_result",
          "data": {
            "text/plain": [
              "[[8, 1, 2, 7, 5, 3, 6, 4, 9],\n",
              " [9, 4, 3, 6, 8, 2, 1, 7, 5],\n",
              " [6, 7, 5, 4, 9, 1, 2, 8, 3],\n",
              " [1, 5, 4, 2, 3, 7, 8, 9, 6],\n",
              " [3, 6, 9, 8, 4, 5, 7, 2, 1],\n",
              " [2, 8, 7, 1, 6, 9, 5, 3, 4],\n",
              " [5, 2, 1, 9, 7, 4, 3, 6, 8],\n",
              " [4, 3, 8, 5, 2, 6, 9, 1, 7],\n",
              " [7, 9, 6, 3, 1, 8, 4, 5, 2]]"
            ]
          },
          "metadata": {
            "tags": []
          },
          "execution_count": 11
        }
      ]
    },
    {
      "cell_type": "code",
      "metadata": {
        "id": "ZVy0PK_d2uBA",
        "colab_type": "code",
        "outputId": "14f8ae7c-d1cf-4a37-aede-bb11e31a27f9",
        "colab": {
          "base_uri": "https://localhost:8080/",
          "height": 34
        }
      },
      "source": [
        "%timeit -n 1 -r 1 sudoku(puzzle_hardest)"
      ],
      "execution_count": 0,
      "outputs": [
        {
          "output_type": "stream",
          "text": [
            "1 loop, best of 1: 3.42 s per loop\n"
          ],
          "name": "stdout"
        }
      ]
    }
  ]
}